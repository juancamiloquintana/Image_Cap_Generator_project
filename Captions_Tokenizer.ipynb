{
 "cells": [
  {
   "cell_type": "code",
   "execution_count": 1,
   "id": "c564df8f",
   "metadata": {},
   "outputs": [],
   "source": [
    "import os\n",
    "import pickle\n",
    "import numpy as np\n",
    "import pandas as pd\n",
    "from tqdm.notebook import tqdm"
   ]
  },
  {
   "cell_type": "markdown",
   "id": "195ec3fb",
   "metadata": {},
   "source": [
    "## Captions"
   ]
  },
  {
   "cell_type": "code",
   "execution_count": 2,
   "id": "b650a477",
   "metadata": {},
   "outputs": [],
   "source": [
    "caption_path = 'captions.txt'\n",
    "descriptions = {}\n",
    "\n",
    "with open(caption_path, 'r') as file:\n",
    "    next(file)  # Saltar encabezado\n",
    "    for line in file:\n",
    "        tokens = line.strip().split(',')\n",
    "        img_id, caption = tokens[0], tokens[1]\n",
    "        img_id = img_id.split('.')[0]\n",
    "        if img_id not in descriptions:\n",
    "            descriptions[img_id] = []\n",
    "        # Puedes agregar tokens especiales para entrenar el modelo\n",
    "        descriptions[img_id].append('startseq ' + caption + ' endseq')"
   ]
  },
  {
   "cell_type": "code",
   "execution_count": 3,
   "id": "83c25566",
   "metadata": {},
   "outputs": [],
   "source": [
    "import string\n",
    "\n",
    "def clean_captions(descriptions):\n",
    "    table = str.maketrans('', '', string.punctuation)\n",
    "    for key, caps in descriptions.items():\n",
    "        new_caps = []\n",
    "        for caption in caps:\n",
    "            caption = caption.lower()\n",
    "            caption = caption.translate(table)\n",
    "            caption = caption.split()\n",
    "            caption = [word for word in caption if len(word) > 1 and word.isalpha()]\n",
    "            new_caps.append(' '.join(caption))\n",
    "        descriptions[key] = new_caps\n",
    "\n",
    "clean_captions(descriptions)"
   ]
  },
  {
   "cell_type": "code",
   "execution_count": 4,
   "id": "62c51b89",
   "metadata": {},
   "outputs": [],
   "source": [
    "import pickle\n",
    "\n",
    "with open(\"descriptions.pkl\", \"wb\") as f:\n",
    "    pickle.dump(descriptions, f)"
   ]
  },
  {
   "cell_type": "markdown",
   "id": "cea2bd67",
   "metadata": {},
   "source": [
    "## Tokenizer"
   ]
  },
  {
   "cell_type": "code",
   "execution_count": 5,
   "id": "b392ec6e",
   "metadata": {},
   "outputs": [],
   "source": [
    "from keras.preprocessing.text import Tokenizer\n",
    "\n",
    "# Crear lista de todas las descripciones\n",
    "all_captions = []\n",
    "for key in descriptions:\n",
    "    all_captions.extend(descriptions[key])\n",
    "\n",
    "tokenizer = Tokenizer()\n",
    "tokenizer.fit_on_texts(all_captions)\n",
    "\n",
    "# Guardar tokenizer\n",
    "with open(\"tokenizer.pkl\", \"wb\") as f:\n",
    "    pickle.dump(tokenizer, f)"
   ]
  }
 ],
 "metadata": {
  "kernelspec": {
   "display_name": "tf_gpu",
   "language": "python",
   "name": "python3"
  },
  "language_info": {
   "codemirror_mode": {
    "name": "ipython",
    "version": 3
   },
   "file_extension": ".py",
   "mimetype": "text/x-python",
   "name": "python",
   "nbconvert_exporter": "python",
   "pygments_lexer": "ipython3",
   "version": "3.10.16"
  }
 },
 "nbformat": 4,
 "nbformat_minor": 5
}
